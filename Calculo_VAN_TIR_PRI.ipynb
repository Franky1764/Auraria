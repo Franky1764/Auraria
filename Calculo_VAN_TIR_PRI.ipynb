{
  "nbformat": 4,
  "nbformat_minor": 0,
  "metadata": {
    "colab": {
      "provenance": [],
      "authorship_tag": "ABX9TyObnXaOKkjag+TqWhm6NGph",
      "include_colab_link": true
    },
    "kernelspec": {
      "name": "python3",
      "display_name": "Python 3"
    },
    "language_info": {
      "name": "python"
    }
  },
  "cells": [
    {
      "cell_type": "markdown",
      "metadata": {
        "id": "view-in-github",
        "colab_type": "text"
      },
      "source": [
        "<a href=\"https://colab.research.google.com/github/Franky1764/Auraria/blob/main/Calculo_VAN_TIR_PRI.ipynb\" target=\"_parent\"><img src=\"https://colab.research.google.com/assets/colab-badge.svg\" alt=\"Open In Colab\"/></a>"
      ]
    },
    {
      "cell_type": "code",
      "source": [
        "!pip install numpy_financial"
      ],
      "metadata": {
        "colab": {
          "base_uri": "https://localhost:8080/"
        },
        "id": "oPksWz6PxGUB",
        "outputId": "cc7b686d-d0a4-4d47-a323-8902a69c1c0f"
      },
      "execution_count": null,
      "outputs": [
        {
          "output_type": "stream",
          "name": "stdout",
          "text": [
            "Collecting numpy_financial\n",
            "  Downloading numpy_financial-1.0.0-py3-none-any.whl.metadata (2.2 kB)\n",
            "Requirement already satisfied: numpy>=1.15 in /usr/local/lib/python3.11/dist-packages (from numpy_financial) (2.0.2)\n",
            "Downloading numpy_financial-1.0.0-py3-none-any.whl (14 kB)\n",
            "Installing collected packages: numpy_financial\n",
            "Successfully installed numpy_financial-1.0.0\n"
          ]
        }
      ]
    },
    {
      "cell_type": "code",
      "source": [
        "import numpy_financial as npf"
      ],
      "metadata": {
        "id": "r_-d77z4wmCc"
      },
      "execution_count": null,
      "outputs": []
    },
    {
      "cell_type": "code",
      "execution_count": null,
      "metadata": {
        "colab": {
          "base_uri": "https://localhost:8080/"
        },
        "id": "d1-pt1_awkaK",
        "outputId": "b93b7465-fcef-4047-8b23-c8c33c9a075a"
      },
      "outputs": [
        {
          "output_type": "stream",
          "name": "stdout",
          "text": [
            "Flujos netos anuales: [-48235712, 72121280, 132121280]\n",
            "VAN: 126520228\n",
            "TIR: 156.36 %\n",
            "PRI: 2 años\n"
          ]
        }
      ],
      "source": [
        "# Ingresos anuales proyectados\n",
        "ingresos = [15000000, 90000000, 150000000]\n",
        "\n",
        "# Costos estimados por año (según cronograma y presupuesto)\n",
        "costos = [63235712, 17878720, 17878720]\n",
        "\n",
        "# Calcular los flujos netos anuales (ingresos - costos)\n",
        "flujos_netos = [ing - cost for ing, cost in zip(ingresos, costos)]\n",
        "print(\"Flujos netos anuales:\", flujos_netos)\n",
        "\n",
        "# indicar tasa de descuento escogida\n",
        "tasa_descuento = 0.10\n",
        "\n",
        "# Calculo VAN\n",
        "van = npf.npv(rate=tasa_descuento, values=flujos_netos)\n",
        "print(\"VAN:\", round(van))\n",
        "\n",
        "# Calculo TIR\n",
        "tir = npf.irr(flujos_netos)\n",
        "print(\"TIR:\", round(tir * 100, 2), \"%\")\n",
        "\n",
        "# Calculo PRI (Período de Recuperación)\n",
        "acumulado = 0\n",
        "pri = None\n",
        "for i, flujo in enumerate(flujos_netos):\n",
        "    acumulado += flujo\n",
        "    if acumulado >= 0:\n",
        "        pri = i + 1\n",
        "        break\n",
        "print(\"PRI:\", pri, \"años\")\n",
        "\n"
      ]
    }
  ]
}